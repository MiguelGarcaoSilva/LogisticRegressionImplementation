{
 "cells": [
  {
   "cell_type": "code",
   "execution_count": 1,
   "metadata": {},
   "outputs": [],
   "source": [
    "import numpy as np\n",
    "import pandas as pd\n",
    "from sklearn import datasets\n"
   ]
  },
  {
   "cell_type": "code",
   "execution_count": 2,
   "metadata": {},
   "outputs": [
    {
     "data": {
      "text/plain": [
       "(100, 5)"
      ]
     },
     "execution_count": 2,
     "metadata": {},
     "output_type": "execute_result"
    }
   ],
   "source": [
    "iris = datasets.load_iris()\n",
    "\n",
    "# Convert to a DataFrame\n",
    "iris_df = pd.DataFrame(iris.data, columns=iris.feature_names)\n",
    "iris_df['species'] = iris.target\n",
    "\n",
    "# Filter for binary classification 'versicolor' vs 'virginica' ['setosa' 'versicolor' 'virginica']\n",
    "X = iris_df[iris_df['species'].isin([1, 2])].copy()\n",
    "\n",
    "# Relabel the target column (optional: make species binary 0 and 1)\n",
    "X['species'] = X['species'].map({1: 0, 2: 1})\n",
    "\n",
    "#to array\n",
    "X = X.values\n",
    "\n",
    "# Print the filtered dataset\n",
    "X.shape # (100, 5)\n"
   ]
  },
  {
   "cell_type": "code",
   "execution_count": 3,
   "metadata": {},
   "outputs": [
    {
     "name": "stdout",
     "output_type": "stream",
     "text": [
      "(80, 4)\n",
      "(20, 4)\n",
      "(80, 1)\n",
      "(20, 1)\n"
     ]
    }
   ],
   "source": [
    "#train test split\n",
    "from sklearn.model_selection import train_test_split\n",
    "\n",
    "X_train, X_test = train_test_split(X, test_size=0.2, random_state=42)\n",
    "y_train = X_train[:, -1].reshape(-1, 1)\n",
    "y_test = X_test[:, -1].reshape(-1, 1)\n",
    "X_train = X_train[:, :-1]\n",
    "X_test = X_test[:, :-1]\n",
    "\n",
    "print(X_train.shape) # (80, 5)\n",
    "print(X_test.shape)  # (20, 5)\n",
    "print(y_train.shape) # (80,1)\n",
    "print(y_test.shape)  # (20,1)\n"
   ]
  },
  {
   "cell_type": "code",
   "execution_count": 4,
   "metadata": {},
   "outputs": [
    {
     "data": {
      "text/plain": [
       "array([0.5       , 0.73105858, 0.88079708, 0.95257413])"
      ]
     },
     "execution_count": 4,
     "metadata": {},
     "output_type": "execute_result"
    }
   ],
   "source": [
    "def sigmoid(x):\n",
    "    '''Sigmoid function that works with numpy arrays'''\n",
    "    return 1 / (1 + np.exp(-x))\n",
    "\n",
    "def propagate(X, y, w, b):\n",
    "    '''Forward and backward propagation'''\n",
    "    #TODO: Implement forward propagation\n",
    "    return cost, dw, db\n",
    "\n",
    "def train(X, y, w, b, num_iterations, learning_rate):\n",
    "    '''Train the model using gradient descent'''\n",
    "    for i in range(num_iterations):\n",
    "        #TODO: Implement gradient descent\n",
    "        pass\n",
    "    return w, b\n",
    "def predict(X, w, b):\n",
    "    '''Predict the class of each sample'''\n",
    "    #TODO: Implement prediction\n",
    "    return y_pred"
   ]
  }
 ],
 "metadata": {
  "kernelspec": {
   "display_name": "torch_motifpredenv",
   "language": "python",
   "name": "python3"
  },
  "language_info": {
   "codemirror_mode": {
    "name": "ipython",
    "version": 3
   },
   "file_extension": ".py",
   "mimetype": "text/x-python",
   "name": "python",
   "nbconvert_exporter": "python",
   "pygments_lexer": "ipython3",
   "version": "3.12.2"
  }
 },
 "nbformat": 4,
 "nbformat_minor": 2
}
